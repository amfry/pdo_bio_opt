{
 "cells": [
  {
   "cell_type": "markdown",
   "metadata": {},
   "source": [
    "## Question\n",
    "-SSE in the constraints section and the system of equations\n",
    "\n",
    "\n",
    "### Fermentation of Penicillin\n",
    "Fermentation is the technique used for the commercial production of penicillin. It is a fed-batch process that is carried out aseptically in stainless steel tank reactors with a capacity of 30 to 100 thousand gallons. - "
   ]
  },
  {
   "cell_type": "markdown",
   "metadata": {},
   "source": [
    "#### Equation\n",
    "$R = \\hat V \\times C_{pen}$  \n",
    "$ P = S_{pen} \\times n \\times C_{pen} \\times \\hat V \\times (1-f) - C_{opt} $  \n",
    "$ Y = \\frac{\\displaystyle C_{pen}}{\\displaystyle In_{glu} \\times In{csl} \\times In_{cls}}$ \n",
    "\n",
    "\n",
    "#### Variables\n",
    "| Symb. | Meaning | Units |\n",
    "|---|---|---|\n",
    "| $C_{opt}$ | Operating Cost | ? |\n",
    "| $ \\hat V $ | Volumetric flow into reactor | ? |\n",
    "| $ f $ | Fraction of penicillin lost during production | ? |\n",
    "| $R$ | Production Rate | ? |\n",
    "| $M$ | Mutation Rate | ? |\n",
    "| $Y$ | Yield | ? |\n",
    "| $P$ | Profit | \\$ |\n",
    "| $In_{glu}$ |Glucose concentration input into the  reactor | ? |  \n",
    "| $In_{cls}$ |CSL concentration input into reactor | ? |  \n",
    "| $C_{glu}$ |Glucose concentration inside reactor | ? |  \n",
    "| $C_{cls}$ |CSL concentration inside reactor | ? |  \n",
    "| $ X $ |Biomass concentration inside reactor | ? |\n",
    "| $ \\alpha _{csl} $ |??? | ? |\n",
    "| $ S_{pen} $ |Selling cost of Penicillin | \\$ |\n",
    "\n",
    "\n",
    "#### Parameters (Constants)\n",
    "\n",
    "| Symb. | Meaning | Units |\n",
    "|---|---|---|\n",
    "| $n$ |number of reactors |   N/A |\n",
    "| $Vol$ | Volume of CSTR | L |\n",
    "\n",
    "\n",
    "** CSTR is Continously Fed Reactor  \n",
    "** CSL is corn steep liquor which is a byproduct of corn processing and provides other nutrients, such as\n",
    "amino acids, that are needed for cell growth\n",
    "\n",
    "#### Constraints\n",
    "$Vol \\geq 0$  \n",
    "$Vol < TankSize $"
   ]
  },
  {
   "cell_type": "markdown",
   "metadata": {},
   "source": [
    "## Executive Summary\n",
    "\n",
    "The consistent creation of peniciliin is critical modern life. Increasing demand for antibiotics is driving the annual growth of this part of the pharmaceutical industry and predictable fermentation is key(Lee).  Peniciilin V is converted into amoxicillin and amicillin. \n",
    "\n",
    "Multi-objective otimization"
   ]
  },
  {
   "cell_type": "markdown",
   "metadata": {},
   "source": [
    "## Background\n",
    "### Penicillin Production Model\n",
    "This is a model of Penicilln V prodcued by the fermentation of the fungus *Penicillium chrysogenum*. The mathemtical model of fermentation used here accounts for production  in 3 celluar types in the fungus. \n",
    "### CSTR Model\n",
    "Continiously Stirred-Tank Reactor are an alternative to the \n",
    "-This model assumes perfect mixing & a uniform concentration profile"
   ]
  },
  {
   "cell_type": "markdown",
   "metadata": {},
   "source": [
    "## Formulation\n",
    "\n",
    "##### System of Equations\n",
    "The system of equations used can be found in the paper by Binjade. It is a modification of the fermentation model found in the Lee paper for a feed barch penicillin production set-up. To apply that model to the CSTR process, the equations were made time-independent. This assumption is possible because of the ideal CSTR model where there is perfect missing and a uniform concentration profile (Bush, FluidFlo).\n",
    "\n",
    "|Constant|Value|Units| Meaning|\n",
    "|---|---|---| ---|\n",
    "|$\\alpha_{csl}$||| |\n",
    "|||| |\n",
    "\n",
    "#### Objective Functions\n",
    "$Penicillin Concentration = C_{pen}$  \n",
    "$R = \\hat V \\times C_{pen}$  \n",
    "$ P = S_{pen} \\times n \\times C_{pen} \\times \\hat V \\times (1-f) - C_{opt} $  \n",
    "$ Y = \\frac{\\displaystyle C_{pen}}{\\displaystyle In_{glu} \\times \\alpha_{csl} \\times In_{cls}}$ \n",
    "\n",
    "\n",
    "### Processs Control Variables\n",
    "These design varaibles would be manipulated to controll the managed the fermentation process.  \n",
    "\n",
    "| Symb. | Meaning | Units | Lower Bound| Upper Bound|   \n",
    "|---|---|-----|---|---|\n",
    "| $ \\hat V $ | Volumetric flow into reactor | $L* hr^-1$ |0| 5,000 |\n",
    "| $ Vol $ | Volumn of Reactor | L | 0 | 5,000,000|  \n",
    "| $In_{glu}$ |Glucose concentration input into the  reactor | $$ gm*L^-1 $$ |0|909|\n",
    "| $In_{cls}$ |CSL concentration input into reactor | $$ gm*L^-1 $$ |0|909|\n",
    "| $ X $ |Biomass concentration inside reactor | $$ gm*L^-1 $$ | 0 | 40 |  \n",
    "\n",
    "### Reactor Condition Varaibles\n",
    "These design variables are needed to solve the system of equation defined above. \n",
    "\n",
    "| Symb. | Meaning | Units | Lower Bound| Upper Bound|   \n",
    "|---|---|---|---|---|\n",
    "|$Z_a$|Apical cells|~|0|1|\n",
    "|$Z_s$|Subapical cells|~|0|1|\n",
    "|$Z_h$|Hyphal cells|~|0|1|\n",
    "| $C_{glu}$ |Glucose concentration inside reactor |  $$ gm*L^-1 $$ |0|909 \n",
    "| $C_{cls}$ |CSL concentration inside reactor |  $$ gm*L^-1 $$ |0|909|\n",
    "| $C_{pen}$ | Penicillin Concentration|  $$ gm*L^-1 $$ | 0 | 100\n",
    "\n",
    "#### Constraints\n",
    "$$ SSE \\leq 1^-25 $$ \n",
    "$$ yield < 1$$ \n",
    "$$ C_{pen} \\leq 100 $$\n",
    "$$ Vol \\leq 5,000,000 $$ \n",
    "$$ \\dfrac{Vol}{\\hat V} \\leq 1000 $$\n",
    "$$ C_{glu} \\leq 1^-25 $$\n",
    "$$ C_{cls} \\leq 1^-25 $$\n",
    "$$ Z_a + Z_s + Z_h = 1 $$"
   ]
  },
  {
   "cell_type": "markdown",
   "metadata": {},
   "source": [
    "### Results"
   ]
  },
  {
   "cell_type": "markdown",
   "metadata": {},
   "source": [
    "### Conclusion"
   ]
  },
  {
   "cell_type": "markdown",
   "metadata": {},
   "source": [
    "### References\n",
    "\n",
    "---\n",
    "\n",
    "- Bush, Derek B., and Dila Banjade. \"Optimization of Penicillin V Production Using a Continuous Reactor.\" (2015).\n",
    "\n",
    "- Lee, Fook Choon, Gade Pandu Rangaiah, and Ajay Kumar Ray. \"Multi‐objective optimization of an industrial penicillin V bioreactor train using non‐dominated sorting genetic algorithm.\" Biotechnology and bioengineering 98.3 (2007): 586-598.\n",
    "\n",
    "- Zangirolami, Teresa C., et al. \"Simulation of penicillin production in fed‐batch cultivations using a morphologically structured model.\" Biotechnology and bioengineering 56.6 (1997): 593-604.\n",
    "\n",
    "- FluidFlo, director. Three Main Ideal Reactors (Batch, PFR, MFR/CSTR). YouTube, YouTube, 8 Feb. 2015, www.youtube.com/watch?v=XyLUVSfHL0Y. "
   ]
  }
 ],
 "metadata": {
  "kernelspec": {
   "display_name": "Python 3",
   "language": "python",
   "name": "python3"
  },
  "language_info": {
   "codemirror_mode": {
    "name": "ipython",
    "version": 3
   },
   "file_extension": ".py",
   "mimetype": "text/x-python",
   "name": "python",
   "nbconvert_exporter": "python",
   "pygments_lexer": "ipython3",
   "version": "3.8.5"
  }
 },
 "nbformat": 4,
 "nbformat_minor": 4
}
