{
 "cells": [
  {
   "cell_type": "code",
   "execution_count": 2,
   "metadata": {},
   "outputs": [],
   "source": [
    "import grama as gr\n",
    "import numpy as np\n",
    "import matplotlib.pyplot as plt\n",
    "import matplotlib.patches as mpatches\n",
    "import pandas as pd"
   ]
  },
  {
   "cell_type": "markdown",
   "metadata": {},
   "source": [
    "### Define Functions"
   ]
  },
  {
   "cell_type": "code",
   "execution_count": 14,
   "metadata": {},
   "outputs": [],
   "source": [
    "### Objective\n",
    "def obj_rate(X):\n",
    "    c_pen, in_glu, alpha_csl, in_cls = X\n",
    "    return c_pen/(in_glu * alpha_csl * in_cls)\n",
    "var_rate = [\"c_pen\", \"in_glu\", \"alpha_csl\", \"in_cls\"]\n",
    "out_rate = [\"rate\"]\n",
    "\n",
    "### System of Equations"
   ]
  },
  {
   "cell_type": "markdown",
   "metadata": {},
   "source": [
    "### Add Objective"
   ]
  },
  {
   "cell_type": "code",
   "execution_count": 15,
   "metadata": {},
   "outputs": [
    {
     "name": "stdout",
     "output_type": "stream",
     "text": [
      "model: CSTR Optimization\n",
      "\n",
      "  inputs:\n",
      "    var_det:\n",
      "      c_pen: (unbounded)\n",
      "      alpha_csl: (unbounded)\n",
      "      in_glu: (unbounded)\n",
      "      in_cls: (unbounded)\n",
      "    var_rand:\n",
      "    copula:\n",
      "        None\n",
      "  functions:\n",
      "    f0: ['c_pen', 'in_glu', 'alpha_csl', 'in_cls'] -> ['rate']\n"
     ]
    }
   ],
   "source": [
    "md_bio = (\n",
    "    gr.Model(\"CSTR Optimization\")\n",
    "     >>gr.cp_function(\n",
    "        fun=obj_rate,\n",
    "        var = var_rate,\n",
    "        out=out_rate,\n",
    "    )\n",
    ")\n",
    "md_bio.printpretty()"
   ]
  },
  {
   "cell_type": "markdown",
   "metadata": {},
   "source": [
    "### Add Constraints"
   ]
  },
  {
   "cell_type": "code",
   "execution_count": 11,
   "metadata": {},
   "outputs": [
    {
     "name": "stdout",
     "output_type": "stream",
     "text": [
      "model: CSTR Optimization\n",
      "\n",
      "  inputs:\n",
      "    var_det:\n",
      "      c_pen: (unbounded)\n",
      "      alpha_csl: (unbounded)\n",
      "      in_glu: (unbounded)\n",
      "      in_cls: (unbounded)\n",
      "    var_rand:\n",
      "    copula:\n",
      "        None\n",
      "  functions:\n",
      "    f0: ['c_pen', 'in_glu', 'alpha_csl', 'in_cls'] -> ['rate']\n"
     ]
    }
   ],
   "source": [
    "(md_bio\n",
    "    >> gr.cp_bounds(\n",
    "        c_pen=(0, 80),\n",
    "        in_cls=(-1, +1),)\n",
    ")\n",
    "\n",
    "md_bio.printpretty()"
   ]
  }
 ],
 "metadata": {
  "kernelspec": {
   "display_name": "Python 3",
   "language": "python",
   "name": "python3"
  },
  "language_info": {
   "codemirror_mode": {
    "name": "ipython",
    "version": 3
   },
   "file_extension": ".py",
   "mimetype": "text/x-python",
   "name": "python",
   "nbconvert_exporter": "python",
   "pygments_lexer": "ipython3",
   "version": "3.8.5"
  }
 },
 "nbformat": 4,
 "nbformat_minor": 4
}
